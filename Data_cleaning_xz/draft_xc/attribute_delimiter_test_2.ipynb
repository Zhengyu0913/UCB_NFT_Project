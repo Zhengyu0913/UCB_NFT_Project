{
 "cells": [
  {
   "cell_type": "code",
   "execution_count": 4,
   "id": "a89b82d1",
   "metadata": {},
   "outputs": [
    {
     "data": {
      "text/html": [
       "<div>\n",
       "<style scoped>\n",
       "    .dataframe tbody tr th:only-of-type {\n",
       "        vertical-align: middle;\n",
       "    }\n",
       "\n",
       "    .dataframe tbody tr th {\n",
       "        vertical-align: top;\n",
       "    }\n",
       "\n",
       "    .dataframe thead th {\n",
       "        text-align: right;\n",
       "    }\n",
       "</style>\n",
       "<table border=\"1\" class=\"dataframe\">\n",
       "  <thead>\n",
       "    <tr style=\"text-align: right;\">\n",
       "      <th></th>\n",
       "      <th>id</th>\n",
       "      <th>price</th>\n",
       "      <th>owner</th>\n",
       "      <th>collectionName</th>\n",
       "      <th>collectionTitle</th>\n",
       "      <th>title</th>\n",
       "      <th>propertyCategory</th>\n",
       "      <th>creators</th>\n",
       "      <th>attributes</th>\n",
       "      <th>properties</th>\n",
       "      <th>tokenDelegateValid</th>\n",
       "      <th>rarity</th>\n",
       "      <th>version</th>\n",
       "    </tr>\n",
       "  </thead>\n",
       "  <tbody>\n",
       "    <tr>\n",
       "      <th>0</th>\n",
       "      <td>F6iQ92fh8xKHiH9FP1buvf8HRKpDzokTEP76W4YSqRe1</td>\n",
       "      <td>6.00</td>\n",
       "      <td>H8poh3jCsRKxMmQh88ZojG61tU7DVejoeHx8B2Yisq8o</td>\n",
       "      <td>lux_real_estate</td>\n",
       "      <td>LUX | Real Estate</td>\n",
       "      <td>LUX | Real Estate</td>\n",
       "      <td>video</td>\n",
       "      <td>[{'address': 'AGDBeUaKReqE3DdtWq6J9TRAarScBRhG...</td>\n",
       "      <td>[{'trait_type': 'Unit Type', 'value': 'Apartme...</td>\n",
       "      <td>{'creators': [{'address': 'RRUMF9KYPcvNSmnicNM...</td>\n",
       "      <td>False</td>\n",
       "      <td>NaN</td>\n",
       "      <td>1</td>\n",
       "    </tr>\n",
       "    <tr>\n",
       "      <th>1</th>\n",
       "      <td>5VuXmx47uEnH1cP944VCBb8QWavo1vAtJYoxJXyhkpZ6</td>\n",
       "      <td>6.00</td>\n",
       "      <td>FeJKqEKi3ZszFC61oMReRBtKPNdHdKCJiekMw6LGJbg7</td>\n",
       "      <td>lux_real_estate</td>\n",
       "      <td>LUX | Real Estate</td>\n",
       "      <td>LUX | Real Estate</td>\n",
       "      <td>video</td>\n",
       "      <td>[{'address': 'AGDBeUaKReqE3DdtWq6J9TRAarScBRhG...</td>\n",
       "      <td>[{'trait_type': 'Unit Type', 'value': 'Apartme...</td>\n",
       "      <td>{'creators': [{'address': 'RRUMF9KYPcvNSmnicNM...</td>\n",
       "      <td>False</td>\n",
       "      <td>NaN</td>\n",
       "      <td>1</td>\n",
       "    </tr>\n",
       "    <tr>\n",
       "      <th>2</th>\n",
       "      <td>BCj4VZ742aQiNXgvGJQQvufSsWxsiNsEyA7FjS6JJPTe</td>\n",
       "      <td>6.20</td>\n",
       "      <td>96LjHL6z5j7EmN2f9imgevNoYdjGZiducG6jHD5rMBBG</td>\n",
       "      <td>lux_real_estate</td>\n",
       "      <td>LUX | Real Estate</td>\n",
       "      <td>LUX | Real Estate</td>\n",
       "      <td>video</td>\n",
       "      <td>[{'address': 'AGDBeUaKReqE3DdtWq6J9TRAarScBRhG...</td>\n",
       "      <td>[{'trait_type': 'Unit Type', 'value': 'Apartme...</td>\n",
       "      <td>{'creators': [{'address': 'RRUMF9KYPcvNSmnicNM...</td>\n",
       "      <td>False</td>\n",
       "      <td>NaN</td>\n",
       "      <td>1</td>\n",
       "    </tr>\n",
       "    <tr>\n",
       "      <th>3</th>\n",
       "      <td>9cRDL4YsPi5ftyg2HAkFgVmAKTApSvHp7wNprmVdYcmh</td>\n",
       "      <td>6.29</td>\n",
       "      <td>HfewggC1euXEbHjDsWfLZQ6fyEMWPrGAJnxgx1otKLyP</td>\n",
       "      <td>lux_real_estate</td>\n",
       "      <td>LUX | Real Estate</td>\n",
       "      <td>LUX | Real Estate</td>\n",
       "      <td>video</td>\n",
       "      <td>[{'address': 'AGDBeUaKReqE3DdtWq6J9TRAarScBRhG...</td>\n",
       "      <td>[{'trait_type': 'Unit Type', 'value': 'Apartme...</td>\n",
       "      <td>{'creators': [{'address': 'RRUMF9KYPcvNSmnicNM...</td>\n",
       "      <td>False</td>\n",
       "      <td>NaN</td>\n",
       "      <td>1</td>\n",
       "    </tr>\n",
       "    <tr>\n",
       "      <th>4</th>\n",
       "      <td>22hgT7q3APxKLQU2K5AzBqqUGHoP9xaJ2frR5AUSu1X1</td>\n",
       "      <td>6.30</td>\n",
       "      <td>Q2ce28VtsxjWeEha23Pu1bs6XEbo2KKPyMVqnr1n46C</td>\n",
       "      <td>lux_real_estate</td>\n",
       "      <td>LUX | Real Estate</td>\n",
       "      <td>LUX | Real Estate</td>\n",
       "      <td>video</td>\n",
       "      <td>[{'address': 'AGDBeUaKReqE3DdtWq6J9TRAarScBRhG...</td>\n",
       "      <td>[{'trait_type': 'Unit Type', 'value': 'Apartme...</td>\n",
       "      <td>{'creators': [{'address': 'RRUMF9KYPcvNSmnicNM...</td>\n",
       "      <td>False</td>\n",
       "      <td>NaN</td>\n",
       "      <td>1</td>\n",
       "    </tr>\n",
       "  </tbody>\n",
       "</table>\n",
       "</div>"
      ],
      "text/plain": [
       "                                             id  price  \\\n",
       "0  F6iQ92fh8xKHiH9FP1buvf8HRKpDzokTEP76W4YSqRe1   6.00   \n",
       "1  5VuXmx47uEnH1cP944VCBb8QWavo1vAtJYoxJXyhkpZ6   6.00   \n",
       "2  BCj4VZ742aQiNXgvGJQQvufSsWxsiNsEyA7FjS6JJPTe   6.20   \n",
       "3  9cRDL4YsPi5ftyg2HAkFgVmAKTApSvHp7wNprmVdYcmh   6.29   \n",
       "4  22hgT7q3APxKLQU2K5AzBqqUGHoP9xaJ2frR5AUSu1X1   6.30   \n",
       "\n",
       "                                          owner   collectionName  \\\n",
       "0  H8poh3jCsRKxMmQh88ZojG61tU7DVejoeHx8B2Yisq8o  lux_real_estate   \n",
       "1  FeJKqEKi3ZszFC61oMReRBtKPNdHdKCJiekMw6LGJbg7  lux_real_estate   \n",
       "2  96LjHL6z5j7EmN2f9imgevNoYdjGZiducG6jHD5rMBBG  lux_real_estate   \n",
       "3  HfewggC1euXEbHjDsWfLZQ6fyEMWPrGAJnxgx1otKLyP  lux_real_estate   \n",
       "4   Q2ce28VtsxjWeEha23Pu1bs6XEbo2KKPyMVqnr1n46C  lux_real_estate   \n",
       "\n",
       "     collectionTitle              title propertyCategory  \\\n",
       "0  LUX | Real Estate  LUX | Real Estate            video   \n",
       "1  LUX | Real Estate  LUX | Real Estate            video   \n",
       "2  LUX | Real Estate  LUX | Real Estate            video   \n",
       "3  LUX | Real Estate  LUX | Real Estate            video   \n",
       "4  LUX | Real Estate  LUX | Real Estate            video   \n",
       "\n",
       "                                            creators  \\\n",
       "0  [{'address': 'AGDBeUaKReqE3DdtWq6J9TRAarScBRhG...   \n",
       "1  [{'address': 'AGDBeUaKReqE3DdtWq6J9TRAarScBRhG...   \n",
       "2  [{'address': 'AGDBeUaKReqE3DdtWq6J9TRAarScBRhG...   \n",
       "3  [{'address': 'AGDBeUaKReqE3DdtWq6J9TRAarScBRhG...   \n",
       "4  [{'address': 'AGDBeUaKReqE3DdtWq6J9TRAarScBRhG...   \n",
       "\n",
       "                                          attributes  \\\n",
       "0  [{'trait_type': 'Unit Type', 'value': 'Apartme...   \n",
       "1  [{'trait_type': 'Unit Type', 'value': 'Apartme...   \n",
       "2  [{'trait_type': 'Unit Type', 'value': 'Apartme...   \n",
       "3  [{'trait_type': 'Unit Type', 'value': 'Apartme...   \n",
       "4  [{'trait_type': 'Unit Type', 'value': 'Apartme...   \n",
       "\n",
       "                                          properties  tokenDelegateValid  \\\n",
       "0  {'creators': [{'address': 'RRUMF9KYPcvNSmnicNM...               False   \n",
       "1  {'creators': [{'address': 'RRUMF9KYPcvNSmnicNM...               False   \n",
       "2  {'creators': [{'address': 'RRUMF9KYPcvNSmnicNM...               False   \n",
       "3  {'creators': [{'address': 'RRUMF9KYPcvNSmnicNM...               False   \n",
       "4  {'creators': [{'address': 'RRUMF9KYPcvNSmnicNM...               False   \n",
       "\n",
       "  rarity  version  \n",
       "0    NaN        1  \n",
       "1    NaN        1  \n",
       "2    NaN        1  \n",
       "3    NaN        1  \n",
       "4    NaN        1  "
      ]
     },
     "execution_count": 4,
     "metadata": {},
     "output_type": "execute_result"
    }
   ],
   "source": [
    "import pandas as pd\n",
    "import numpy as np\n",
    "import re\n",
    "\n",
    "all_df = pd.read_csv('(revised)nft_in_each_collections.csv', index_col=[0])\n",
    "all_df.head()"
   ]
  },
  {
   "cell_type": "code",
   "execution_count": 5,
   "id": "fb44acad",
   "metadata": {},
   "outputs": [],
   "source": [
    "def split_attribute(c_name):\n",
    "        #pull out only data that match the collecion name\n",
    "        collection_df = all_df[all_df['collectionName'] == c_name]\n",
    "        # reset the index of the collection df\n",
    "        collection_df = collection_df.reset_index()\n",
    "        # print the list of row 1\n",
    "        draft_trait_list=[]\n",
    "        # loop through each cell under column 'attributes'\n",
    "        for r in range(len(collection_df['attributes'])):\n",
    "            # find all name after \"trait_type\"\n",
    "            regex_results = re.findall(r\"'trait_type': '([\\w\\s]+)'\",collection_df['attributes'][r])\n",
    "            draft_trait_list.append(regex_results)\n",
    "            \n",
    "        dup_trait_list=[]\n",
    "        # remove the duplicate string in the list\n",
    "        for i in draft_trait_list:\n",
    "            if i not in dup_trait_list:\n",
    "                dup_trait_list.append(i)\n",
    "                \n",
    "        # found the longest string with trait_type names, that will be out final name list\n",
    "        max_len = -1\n",
    "        for ele in dup_trait_list:\n",
    "            if len(ele) > max_len:\n",
    "                max_len = len(ele)\n",
    "                final_trait_list = ele\n",
    "        # check each cell in column 'attributes', make sure we have all trait_type input\n",
    "        for x in range(len(collection_df['attributes'])):\n",
    "            # check and see if current(i) trait_type exist\n",
    "            for i, value in enumerate(final_trait_list):\n",
    "                check_str = f\"'trait_type': '{value}'\"     \n",
    "                # if trait_type not in this cell\n",
    "                if check_str not in (collection_df['attributes'][x]):\n",
    "                    print(\"---old----\")\n",
    "                    print(x)\n",
    "#                     print(collection_df['attributes'][x])\n",
    "                    print(f\"check_str:{check_str}\")\n",
    "                    print(\"\\n\")\n",
    "                    # split the current position\n",
    "                    list_string = collection_df['attributes'][x].split('}')\n",
    "        #             print(list_string)\n",
    "                    # Add the trait_type, with value equal none\n",
    "                    string_add = \", {'trait_type': '\" + value + \"', 'value': 'none'\"\n",
    "                    # insert the string as correct order as the trait_type list\n",
    "                    list_string.insert(i, string_add)\n",
    "                    # then closed the position\n",
    "                    new_string = '}'.join(list_string)\n",
    "                    #print(new_string)  \n",
    "                    collection_df['attributes'][x] = new_string\n",
    "                    print(\"---new---\")\n",
    "                    print(collection_df['attributes'][x])\n",
    "                    print(\"---------------------\\n\")\n",
    "\n",
    "        # return list, collection_df, and attribute_df\n",
    "        return final_trait_list,collection_df"
   ]
  },
  {
   "cell_type": "code",
   "execution_count": null,
   "id": "59c44543",
   "metadata": {},
   "outputs": [],
   "source": [
    "def add_att(type_results,collection_df):\n",
    "    att_list = []\n",
    "    for cell_value in range(len(collection_df['attributes'])):\n",
    "        change_list = re.sub(r'[{}]','',collection_df['attributes'][cell_value])\n",
    "        value_results = re.findall(r\"'value': '([\\w\\s]+)'\",change_list)                              \n",
    "        att_list.append(value_results)\n",
    "        print(\"----value list----\")\n",
    "        print(\"\\n\")\n",
    "        print(att_list)   \n",
    "    print(len(att_list))\n",
    "#     att_df = pd.DataFrame(att_list)\n",
    "#     col_list = list(att_df)\n",
    "#     for x in range(len(type_results)):\n",
    "#         att_df.rename(columns={col_list[x]:type_results[x]},inplace=True)\n",
    "#     collection_df = collection_df.merge(att_df, how='outer',left_index=True,right_index=True)\n",
    "#     collection_df = collection_df.drop(columns='index')\n",
    "    \n",
    "    return att_list\n",
    "# att_df, collection_df\n",
    "    "
   ]
  },
  {
   "cell_type": "markdown",
   "id": "be624ed7",
   "metadata": {},
   "source": [
    "### almost_famous_pandas"
   ]
  },
  {
   "cell_type": "code",
   "execution_count": 2,
   "id": "f102dc30",
   "metadata": {},
   "outputs": [],
   "source": [
    "almost_famous_pandas = 'almost_famous_pandas'"
   ]
  },
  {
   "cell_type": "code",
   "execution_count": 3,
   "id": "662d0c20",
   "metadata": {},
   "outputs": [
    {
     "name": "stdout",
     "output_type": "stream",
     "text": [
      "dup_trait_list: \n",
      " [['Outfit', 'Head', 'Glasses', 'Eyes', 'Extras', 'Skin', 'Mouth', 'Body', 'Background', 'Face']] \n",
      "\n",
      "final_trait_list: \n",
      " ['Outfit', 'Head', 'Glasses', 'Eyes', 'Extras', 'Skin', 'Mouth', 'Body', 'Background', 'Face']\n"
     ]
    }
   ],
   "source": [
    "col_df = all_df[all_df['collectionName'] == almost_famous_pandas]\n",
    "col_df = col_df.reset_index()\n",
    "draft_trait_list=[]\n",
    "for r in range(len(col_df['attributes'])):\n",
    "            # find all name after \"trait_type\"\n",
    "            regex_results = re.findall(r\"'trait_type': '([\\w\\s]+)'\",col_df['attributes'][r])\n",
    "            draft_trait_list.append(regex_results)\n",
    "#             print(\"regex_result: \\n\", regex_results, \"\\n\")\n",
    "            \n",
    "dup_trait_list=[]\n",
    "# remove the duplicate string in the list\n",
    "for i in draft_trait_list:\n",
    "    if i not in dup_trait_list:\n",
    "        dup_trait_list.append(i)\n",
    "print(\"dup_trait_list: \\n\", dup_trait_list, \"\\n\")\n",
    "                \n",
    "# found the longest string with trait_type names, that will be out final name list\n",
    "max_len = -1\n",
    "for ele in dup_trait_list:\n",
    "    if len(ele) > max_len:\n",
    "        max_len = len(ele)\n",
    "        final_trait_list = ele\n",
    "\n",
    "print(\"final_trait_list: \\n\", final_trait_list)\n",
    "#return the list of trait_type name"
   ]
  },
  {
   "cell_type": "code",
   "execution_count": 4,
   "id": "3c09ffe8",
   "metadata": {},
   "outputs": [
    {
     "data": {
      "text/plain": [
       "0       [{'trait_type': 'Outfit', 'value': 'None'}, {'...\n",
       "1       [{'trait_type': 'Outfit', 'value': 'Red Sweate...\n",
       "2       [{'trait_type': 'Outfit', 'value': 'White Beat...\n",
       "3       [{'trait_type': 'Outfit', 'value': 'Black Susp...\n",
       "4       [{'trait_type': 'Outfit', 'value': 'Double-Bre...\n",
       "                              ...                        \n",
       "6070    [{'trait_type': 'Outfit', 'value': 'Green Susp...\n",
       "6071    [{'trait_type': 'Outfit', 'value': 'Blanket'},...\n",
       "6072    [{'trait_type': 'Outfit', 'value': 'Big Grey S...\n",
       "6073    [{'trait_type': 'Outfit', 'value': 'Yellow Swi...\n",
       "6074    [{'trait_type': 'Outfit', 'value': 'Diamond Dr...\n",
       "Name: attributes, Length: 6075, dtype: object"
      ]
     },
     "execution_count": 4,
     "metadata": {},
     "output_type": "execute_result"
    }
   ],
   "source": [
    "col_df['attributes']"
   ]
  },
  {
   "cell_type": "code",
   "execution_count": 5,
   "id": "bc827122",
   "metadata": {},
   "outputs": [
    {
     "data": {
      "text/plain": [
       "0       [{'trait_type': 'Outfit', 'value': 'None'}, {'...\n",
       "1       [{'trait_type': 'Outfit', 'value': 'Red Sweate...\n",
       "2       [{'trait_type': 'Outfit', 'value': 'White Beat...\n",
       "3       [{'trait_type': 'Outfit', 'value': 'Black Susp...\n",
       "4       [{'trait_type': 'Outfit', 'value': 'Double-Bre...\n",
       "                              ...                        \n",
       "6070    [{'trait_type': 'Outfit', 'value': 'Green Susp...\n",
       "6071    [{'trait_type': 'Outfit', 'value': 'Blanket'},...\n",
       "6072    [{'trait_type': 'Outfit', 'value': 'Big Grey S...\n",
       "6073    [{'trait_type': 'Outfit', 'value': 'Yellow Swi...\n",
       "6074    [{'trait_type': 'Outfit', 'value': 'Diamond Dr...\n",
       "Name: attributes, Length: 6075, dtype: object"
      ]
     },
     "execution_count": 5,
     "metadata": {},
     "output_type": "execute_result"
    }
   ],
   "source": [
    "for cell_count in range(len(col_df['attributes'])):\n",
    "    #check and see if current(i) trait_type existed\n",
    "    for i, trait_name in enumerate(final_trait_list):\n",
    "        check_str = f\"'trait_type': '{trait_name}'\"\n",
    "        #if trait_type not in cell, add trait_type with value=none\n",
    "        if check_str not in (col_df['attributes'][cell_count]):\n",
    "            split_cell = col_df['attributes'][cell_count].split('}')\n",
    "            # add the trait_type\n",
    "            missing_trait_add = \", {'trait_type': '\" + value + \"', 'value': 'none'\"\n",
    "            # insert the string as correct order as the final_trait_list\n",
    "            split_cell.insert(i,missing_trait_add)\n",
    "            # re-add the \"}\"\n",
    "            trait_revised = '}'.join(split_cell)\n",
    "            col_df['attributes'][cell_count] = trait_reivsed\n",
    "\n",
    "col_df['attributes']"
   ]
  },
  {
   "cell_type": "code",
   "execution_count": null,
   "id": "f22eb393",
   "metadata": {},
   "outputs": [],
   "source": [
    "deli_att_list = col_df['attributes'].str.split(',',expand=False)\n",
    "# print(deli_att_list)\n",
    "# print(deli_att_list[1])\n",
    "# print(\"----split by comma(,) test deli_att_list[0]:---- \\n\",deli_att_list[0],\"\\n\",len(deli_att_list),\"\\n\")\n",
    "# print(\"----test it deli_att_list[0][2]: ---- \\n\", deli_att_list[0][2], \"\\n\")\n",
    "\n",
    "type_value_list=[]\n",
    "type_string = \"'trait_type':\"\n",
    "value_string = \"'value':\"\n",
    "\n",
    "for row_count in range(len(deli_att_list)):\n",
    "    #print(deli_att_list[row_count])\n",
    "    for position_count in range(len(deli_att_list[row_count])):\n",
    "        #print(deli_att_list[row_count][position_count])\n",
    "        if(type_string) in (deli_att_list[row_count][position_count]):\n",
    "            #print(\"type_string existed!\")\n",
    "            type_value_list.append(deli_att_list[row_count][position_count])   \n",
    "        elif(value_string) in deli_att_list[row_count]:\n",
    "            type_value_list.append(deli_att_list[row_count][position_count])\n",
    "    \n",
    "    delimiter = \",\"\n",
    "    rejoin_string = delimiter.join(type_value_list)\n",
    "    deli_att_list[row_count] = rejoin_string\n",
    "          \n",
    "            \n",
    "#             print(type_value_list)\n",
    "\n",
    "#print(deli_att_list[0][1])"
   ]
  },
  {
   "cell_type": "code",
   "execution_count": null,
   "id": "ee81b0d7",
   "metadata": {},
   "outputs": [],
   "source": [
    "att_df = deli_att_list.str.split(',',expand=True)\n"
   ]
  },
  {
   "cell_type": "code",
   "execution_count": null,
   "id": "8939b147",
   "metadata": {},
   "outputs": [],
   "source": [
    "new_string=[]\n",
    "type_string=\"'trait_type':\"\n",
    "value_string=\"'value':\"\n",
    "\n",
    "for x in range(len(new_test_df[0])):\n",
    "    if (type_string) in new_test_df[0][x]:\n",
    "        new_string.append(new_test_df[0][x]) \n",
    "    elif(value_string)in new_test_df[0][x]:\n",
    "        new_string.append(new_test_df[0][x])\n",
    "    \n",
    "print(new_string)\n",
    "print(\"\\n\")\n",
    "\n",
    "deli = \",\"\n",
    "full_string = deli.join(new_string)\n",
    "\n",
    "print(full_string)\n",
    "\n",
    "new_test_df[0] = full_string\n",
    "print(\"\\n\")\n",
    "print(new_test_df[0])\n",
    "\n",
    "\n",
    "full_test_df = new_test_df.str.split(',', expand=True)\n",
    "display(full_test_df)"
   ]
  },
  {
   "cell_type": "code",
   "execution_count": null,
   "id": "094ce175",
   "metadata": {},
   "outputs": [],
   "source": []
  },
  {
   "cell_type": "markdown",
   "id": "c0cdaa5d",
   "metadata": {},
   "source": [
    "## test"
   ]
  },
  {
   "cell_type": "code",
   "execution_count": 1,
   "id": "3b5d6377",
   "metadata": {},
   "outputs": [
    {
     "ename": "NameError",
     "evalue": "name 'all_df' is not defined",
     "output_type": "error",
     "traceback": [
      "\u001b[1;31m---------------------------------------------------------------------------\u001b[0m",
      "\u001b[1;31mNameError\u001b[0m                                 Traceback (most recent call last)",
      "\u001b[1;32m~\\AppData\\Local\\Temp\\ipykernel_11812\\86789820.py\u001b[0m in \u001b[0;36m<module>\u001b[1;34m\u001b[0m\n\u001b[0;32m      1\u001b[0m \u001b[0mcname\u001b[0m \u001b[1;33m=\u001b[0m \u001b[1;34m'magnum_ai'\u001b[0m\u001b[1;33m\u001b[0m\u001b[1;33m\u001b[0m\u001b[0m\n\u001b[1;32m----> 2\u001b[1;33m \u001b[0mtest_df\u001b[0m \u001b[1;33m=\u001b[0m \u001b[0mall_df\u001b[0m\u001b[1;33m[\u001b[0m\u001b[0mall_df\u001b[0m\u001b[1;33m[\u001b[0m\u001b[1;34m'collectionName'\u001b[0m\u001b[1;33m]\u001b[0m \u001b[1;33m==\u001b[0m \u001b[0mcname\u001b[0m\u001b[1;33m]\u001b[0m\u001b[1;33m\u001b[0m\u001b[1;33m\u001b[0m\u001b[0m\n\u001b[0m\u001b[0;32m      3\u001b[0m \u001b[0mtest_df\u001b[0m \u001b[1;33m=\u001b[0m \u001b[0mtest_df\u001b[0m\u001b[1;33m.\u001b[0m\u001b[0mreset_index\u001b[0m\u001b[1;33m(\u001b[0m\u001b[1;33m)\u001b[0m\u001b[1;33m\u001b[0m\u001b[1;33m\u001b[0m\u001b[0m\n\u001b[0;32m      4\u001b[0m \u001b[1;31m# print(test_df['attributes'][0])\u001b[0m\u001b[1;33m\u001b[0m\u001b[1;33m\u001b[0m\u001b[1;33m\u001b[0m\u001b[0m\n\u001b[0;32m      5\u001b[0m \u001b[1;31m# print(\"-------\")\u001b[0m\u001b[1;33m\u001b[0m\u001b[1;33m\u001b[0m\u001b[1;33m\u001b[0m\u001b[0m\n",
      "\u001b[1;31mNameError\u001b[0m: name 'all_df' is not defined"
     ]
    }
   ],
   "source": [
    "cname = 'magnum_ai'\n",
    "test_df = all_df[all_df['collectionName'] == cname]\n",
    "test_df = test_df.reset_index()\n",
    "# print(test_df['attributes'][0])\n",
    "# print(\"-------\")\n",
    "new_test_df = test_df['attributes'].str.split(',', expand=False)\n",
    "print(new_test_df[0])\n",
    "print(\"\\n\")\n",
    "print(len(new_test_df[0]))\n"
   ]
  },
  {
   "cell_type": "code",
   "execution_count": null,
   "id": "d7184586",
   "metadata": {},
   "outputs": [],
   "source": [
    "new_test_df[0][2]"
   ]
  },
  {
   "cell_type": "code",
   "execution_count": 2,
   "id": "445fc0b2",
   "metadata": {},
   "outputs": [
    {
     "ename": "NameError",
     "evalue": "name 'new_test_df' is not defined",
     "output_type": "error",
     "traceback": [
      "\u001b[1;31m---------------------------------------------------------------------------\u001b[0m",
      "\u001b[1;31mNameError\u001b[0m                                 Traceback (most recent call last)",
      "\u001b[1;32m~\\AppData\\Local\\Temp\\ipykernel_11812\\1825078550.py\u001b[0m in \u001b[0;36m<module>\u001b[1;34m\u001b[0m\n\u001b[0;32m      3\u001b[0m \u001b[0mvalue_string\u001b[0m\u001b[1;33m=\u001b[0m\u001b[1;34m\"'value':\"\u001b[0m\u001b[1;33m\u001b[0m\u001b[1;33m\u001b[0m\u001b[0m\n\u001b[0;32m      4\u001b[0m \u001b[1;33m\u001b[0m\u001b[0m\n\u001b[1;32m----> 5\u001b[1;33m \u001b[1;32mfor\u001b[0m \u001b[0mx\u001b[0m \u001b[1;32min\u001b[0m \u001b[0mrange\u001b[0m\u001b[1;33m(\u001b[0m\u001b[0mlen\u001b[0m\u001b[1;33m(\u001b[0m\u001b[0mnew_test_df\u001b[0m\u001b[1;33m[\u001b[0m\u001b[1;36m0\u001b[0m\u001b[1;33m]\u001b[0m\u001b[1;33m)\u001b[0m\u001b[1;33m)\u001b[0m\u001b[1;33m:\u001b[0m\u001b[1;33m\u001b[0m\u001b[1;33m\u001b[0m\u001b[0m\n\u001b[0m\u001b[0;32m      6\u001b[0m     \u001b[1;32mif\u001b[0m \u001b[1;33m(\u001b[0m\u001b[0mtype_string\u001b[0m\u001b[1;33m)\u001b[0m \u001b[1;32min\u001b[0m \u001b[0mnew_test_df\u001b[0m\u001b[1;33m[\u001b[0m\u001b[1;36m0\u001b[0m\u001b[1;33m]\u001b[0m\u001b[1;33m[\u001b[0m\u001b[0mx\u001b[0m\u001b[1;33m]\u001b[0m\u001b[1;33m:\u001b[0m\u001b[1;33m\u001b[0m\u001b[1;33m\u001b[0m\u001b[0m\n\u001b[0;32m      7\u001b[0m         \u001b[0mnew_string\u001b[0m\u001b[1;33m.\u001b[0m\u001b[0mappend\u001b[0m\u001b[1;33m(\u001b[0m\u001b[0mnew_test_df\u001b[0m\u001b[1;33m[\u001b[0m\u001b[1;36m0\u001b[0m\u001b[1;33m]\u001b[0m\u001b[1;33m[\u001b[0m\u001b[0mx\u001b[0m\u001b[1;33m]\u001b[0m\u001b[1;33m)\u001b[0m\u001b[1;33m\u001b[0m\u001b[1;33m\u001b[0m\u001b[0m\n",
      "\u001b[1;31mNameError\u001b[0m: name 'new_test_df' is not defined"
     ]
    }
   ],
   "source": [
    "new_string=[]\n",
    "type_string=\"'trait_type':\"\n",
    "value_string=\"'value':\"\n",
    "\n",
    "for x in range(len(new_test_df[0])):\n",
    "    if (type_string) in new_test_df[0][x]:\n",
    "        new_string.append(new_test_df[0][x]) \n",
    "    elif(value_string)in new_test_df[0][x]:\n",
    "        new_string.append(new_test_df[0][x])\n",
    "    \n",
    "print(new_string)\n",
    "print(\"\\n\")\n",
    "\n",
    "deli = \",\"\n",
    "full_string = deli.join(new_string)\n",
    "\n",
    "print(full_string)\n",
    "\n",
    "new_test_df[0] = full_string\n",
    "print(\"\\n\")\n",
    "print(new_test_df[0])\n",
    "\n",
    "\n",
    "full_test_df = new_test_df.str.split(',', expand=True)\n",
    "display(full_test_df)\n"
   ]
  },
  {
   "cell_type": "code",
   "execution_count": 3,
   "id": "a941cbb2",
   "metadata": {},
   "outputs": [
    {
     "ename": "NameError",
     "evalue": "name 'new_test_df' is not defined",
     "output_type": "error",
     "traceback": [
      "\u001b[1;31m---------------------------------------------------------------------------\u001b[0m",
      "\u001b[1;31mNameError\u001b[0m                                 Traceback (most recent call last)",
      "\u001b[1;32m~\\AppData\\Local\\Temp\\ipykernel_11812\\1338003653.py\u001b[0m in \u001b[0;36m<module>\u001b[1;34m\u001b[0m\n\u001b[1;32m----> 1\u001b[1;33m \u001b[0mnew_test_df\u001b[0m\u001b[1;33m[\u001b[0m\u001b[1;36m0\u001b[0m\u001b[1;33m]\u001b[0m\u001b[1;33m\u001b[0m\u001b[1;33m\u001b[0m\u001b[0m\n\u001b[0m",
      "\u001b[1;31mNameError\u001b[0m: name 'new_test_df' is not defined"
     ]
    }
   ],
   "source": [
    "new_test_df[0]"
   ]
  },
  {
   "cell_type": "code",
   "execution_count": null,
   "id": "54555a1a",
   "metadata": {},
   "outputs": [],
   "source": [
    "(new_test_df[0] )"
   ]
  },
  {
   "cell_type": "code",
   "execution_count": null,
   "id": "0ca80dc6",
   "metadata": {},
   "outputs": [],
   "source": [
    "#list[0] = column name\n",
    "#list[1] = collection_df\n",
    "#list[2] = attribute_df\n",
    "\n",
    "afp_list = split_attribute(almost_famous_pandas)\n",
    "afp_list"
   ]
  },
  {
   "cell_type": "code",
   "execution_count": null,
   "id": "0e60739a",
   "metadata": {},
   "outputs": [],
   "source": [
    "afp_name = ['Trait_Outfit','Trait_Head','Trait_Glasses','Trait_Eyes','Trait_Extras','Trait_Skin','Trait_Mouth','Trait_Body','Trait_Background','Trait_Face']"
   ]
  },
  {
   "cell_type": "code",
   "execution_count": null,
   "id": "2a2a3cde",
   "metadata": {},
   "outputs": [],
   "source": [
    "afp_df = add_att(afp_name,afp_list[1])\n",
    "# print(afp_df.shape)\n",
    "# display(afp_df.head())\n",
    "# display(afp_df.columns)\n"
   ]
  },
  {
   "cell_type": "code",
   "execution_count": null,
   "id": "6becd385",
   "metadata": {},
   "outputs": [],
   "source": [
    "afp_df[0]"
   ]
  },
  {
   "cell_type": "code",
   "execution_count": null,
   "id": "b21d841a",
   "metadata": {},
   "outputs": [],
   "source": [
    "afp_df[1]"
   ]
  },
  {
   "cell_type": "code",
   "execution_count": null,
   "id": "24de7740",
   "metadata": {},
   "outputs": [],
   "source": [
    "afp_df[1].to_csv('check_almost_famous_pandas.csv')"
   ]
  },
  {
   "cell_type": "code",
   "execution_count": null,
   "id": "3377ff0a",
   "metadata": {},
   "outputs": [],
   "source": []
  },
  {
   "cell_type": "markdown",
   "id": "19fad62b",
   "metadata": {},
   "source": [
    "### magicticket"
   ]
  },
  {
   "cell_type": "code",
   "execution_count": null,
   "id": "bfc9483c",
   "metadata": {},
   "outputs": [],
   "source": [
    "magicticket = 'magicticket'\n",
    "\n",
    "#list[0] = column name\n",
    "#list[1] = collection_df\n",
    "#list[2] = attribute_df\n",
    "\n",
    "magicticket_list = split_attribute(magicticket)\n",
    "magicticket_list"
   ]
  },
  {
   "cell_type": "code",
   "execution_count": null,
   "id": "9c88e20e",
   "metadata": {},
   "outputs": [],
   "source": [
    "magicticket_name = ['Trait_Level','Trait_Tier']\n",
    "magicticket_df = add_att(magicticket_name,magicticket_list[1],magicticket_list[2])\n",
    "print(magicticket_df.shape)\n",
    "display(magicticket_df.head())\n",
    "display(magicticket_df.columns)"
   ]
  },
  {
   "cell_type": "code",
   "execution_count": null,
   "id": "e5b0cee9",
   "metadata": {},
   "outputs": [],
   "source": [
    "magicticket_df.to_csv('cleaned_magicticket.csv')"
   ]
  },
  {
   "cell_type": "code",
   "execution_count": null,
   "id": "6f1ac54a",
   "metadata": {},
   "outputs": [],
   "source": []
  },
  {
   "cell_type": "markdown",
   "id": "77e59da2",
   "metadata": {},
   "source": [
    "### guild_saga_heroes"
   ]
  },
  {
   "cell_type": "code",
   "execution_count": null,
   "id": "7886d71b",
   "metadata": {},
   "outputs": [],
   "source": [
    "guild_saga_heroes = 'guild_saga_heroes'\n",
    "#list[0] = column name\n",
    "#list[1] = collection_df\n",
    "#list[2] = attribute_df\n",
    "\n",
    "    \n",
    "guild_saga_heroes_list = split_attribute(guild_saga_heroes)\n",
    "guild_saga_heroes_list"
   ]
  },
  {
   "cell_type": "code",
   "execution_count": null,
   "id": "5cd6255e",
   "metadata": {},
   "outputs": [],
   "source": [
    "guild_saga_heroes_name = ['Trait_Rarity_Level','Trait_Race','Trait_Gender','Trait_Hair','Trait_Eyes','Trait_Head','Trait_Clothing','Trait_Back','Trait_Neck','Trait_Hands','Trait_Waist','Trait_Finger_Left','Trait_Finger_Right','Trait_Feet','Trait_Mainhand_weapon','Trait_Offhand_weapon','Trait_Trinket','Trait_Background']\n",
    "print(len(guild_saga_heroes_name))"
   ]
  },
  {
   "cell_type": "code",
   "execution_count": null,
   "id": "daa80689",
   "metadata": {},
   "outputs": [],
   "source": [
    "guild_saga_heroes_df = add_att(guild_saga_heroes_name,guild_saga_heroes_list[1],guild_saga_heroes_list[2])\n",
    "print(guild_saga_heroes_df.shape)\n",
    "display(guild_saga_heroes_df.head())\n",
    "display(guild_saga_heroes_df.columns)"
   ]
  },
  {
   "cell_type": "code",
   "execution_count": null,
   "id": "d9c1ace9",
   "metadata": {},
   "outputs": [],
   "source": [
    "guild_saga_heroes_df.to_csv('cleaned_guild_saga_heroes.csv')"
   ]
  },
  {
   "cell_type": "code",
   "execution_count": null,
   "id": "53a5ac4a",
   "metadata": {},
   "outputs": [],
   "source": []
  },
  {
   "cell_type": "markdown",
   "id": "95cdfc1b",
   "metadata": {},
   "source": [
    "### monkelabs_dao"
   ]
  },
  {
   "cell_type": "code",
   "execution_count": null,
   "id": "22894cd1",
   "metadata": {},
   "outputs": [],
   "source": [
    "monkelabs_dao = 'monkelabs_dao'\n",
    "#list[0] = column name\n",
    "#list[1] = collection_df\n",
    "#list[2] = attribute_df\n",
    "\n",
    "monkelabs_dao_list = split_attribute(monkelabs_dao)\n",
    "monkelabs_dao_list"
   ]
  },
  {
   "cell_type": "code",
   "execution_count": null,
   "id": "91ce2f94",
   "metadata": {},
   "outputs": [],
   "source": [
    "monkelabs_dao_name = ['Trait_Background','Trait_Body','Trait_Clothes','Trait_Eyes','Trait_Head','Trait_Mouth']\n",
    "print(len(monkelabs_dao_name))"
   ]
  },
  {
   "cell_type": "code",
   "execution_count": null,
   "id": "38a1541d",
   "metadata": {},
   "outputs": [],
   "source": [
    "monkelabs_dao_df = add_att(monkelabs_dao_name,monkelabs_dao_list[1],monkelabs_dao_list[2])\n",
    "print(monkelabs_dao_df.shape)\n",
    "display(monkelabs_dao_df.head())\n",
    "display(monkelabs_dao_df.columns)"
   ]
  },
  {
   "cell_type": "code",
   "execution_count": null,
   "id": "2241757a",
   "metadata": {},
   "outputs": [],
   "source": [
    "monkelabs_dao_df.to_csv('cleaned_monkelabs_dao.csv')"
   ]
  },
  {
   "cell_type": "code",
   "execution_count": null,
   "id": "93f1dc75",
   "metadata": {},
   "outputs": [],
   "source": []
  },
  {
   "cell_type": "markdown",
   "id": "704ea54d",
   "metadata": {},
   "source": [
    "### galactic_geckos"
   ]
  },
  {
   "cell_type": "code",
   "execution_count": null,
   "id": "8ec51a15",
   "metadata": {},
   "outputs": [],
   "source": [
    "# galactic_geckos = 'galactic_geckos'\n",
    "\n",
    "# #list[0] = column name\n",
    "# #list[1] = collection_df\n",
    "# #list[2] = attribute_df\n",
    "\n",
    "# def split_geckos(c_name):\n",
    "#         #pull out only data that match the collecion name\n",
    "#         collection_df = all_df[all_df['collectionName'] == c_name]\n",
    "#         collection_df = collection_df.fillna(\"unknown\")\n",
    "#         # split trait_type and trait_value into separate columns\n",
    "#         split_att_df = collection_df['attributes'].str.split(',', expand=True)\n",
    "#         # print the list of row 1\n",
    "#         col_name_list = split_att_df.iloc[0]\n",
    "#         # only keep the value columns in attribute_df\n",
    "#         split_att_df = split_att_df.loc[:, np.arange(len(split_att_df.columns)) %3 != 0]\n",
    "#         # use regular expression to clean ('value') and non word characters\n",
    "#         split_att_df = split_att_df.replace({'(\\'value\\')?(\\'trait_count\\')?(\\W)':''}, regex=True)\n",
    "#         col_drop = [16,17]\n",
    "# #         split_att_df = split_att_df.drop(columns=split_att_df[])\n",
    "#         # return list, collection_df, and attribute_df\n",
    "#         return col_name_list,collection_df, split_att_df\n",
    "\n",
    "# galactic_geckos_list = split_geckos(galactic_geckos)\n",
    "# galactic_geckos_list"
   ]
  },
  {
   "cell_type": "code",
   "execution_count": null,
   "id": "b28bf498",
   "metadata": {},
   "outputs": [],
   "source": [
    "# galactic_geckos_name = ['Trait_]\n",
    "# print(len(galactic_geckos_name))"
   ]
  },
  {
   "cell_type": "code",
   "execution_count": null,
   "id": "b455c98c",
   "metadata": {},
   "outputs": [],
   "source": [
    "# def add_att_geckos(trait_list,collection_df,att_df):\n",
    "#     #list of column name of current attribute_df\n",
    "#     col_list = list(att_df)\n",
    "#     # change the column name of attribute_df \n",
    "#     for x in range(len(col_list)):\n",
    "#         att_df.rename(columns={col_list[x]:trait_list[x]}, inplace=True)\n",
    "    \n",
    "#     # Drop orginal attribute columns of collection_df\n",
    "#     collection_df = collection_df.drop(columns=['attributes'])\n",
    "    \n",
    "#     #use index as join key to join collection_df and attribute_df\n",
    "#     collection_df = collection_df.merge(att_df, how='outer',left_index=True,right_index=True)\n",
    "    \n",
    "#     #Reset index\n",
    "#     collection_df = collection_df.reset_index()\n",
    "#     collection_df = collection_df.drop(columns='index')\n",
    "#     return collection_df"
   ]
  },
  {
   "cell_type": "code",
   "execution_count": null,
   "id": "20d1b5f6",
   "metadata": {},
   "outputs": [],
   "source": [
    "# galactic_geckos_df = add_att_geckos(galactic_geckos_name,galactic_geckos_list[1],galactic_geckos_list[2])\n",
    "# print(galactic_geckos_df.shape)\n",
    "# display(galactic_geckos_df.head())\n",
    "# display(galactic_geckos_df.columns)"
   ]
  },
  {
   "cell_type": "code",
   "execution_count": null,
   "id": "521bf9a3",
   "metadata": {},
   "outputs": [],
   "source": [
    "# galactic_geckos_df.to_csv('cleaned_galactic_geckos.csv')"
   ]
  },
  {
   "cell_type": "code",
   "execution_count": null,
   "id": "f3036381",
   "metadata": {},
   "outputs": [],
   "source": []
  },
  {
   "cell_type": "markdown",
   "id": "def622ef",
   "metadata": {},
   "source": [
    "### magnum_ai"
   ]
  },
  {
   "cell_type": "code",
   "execution_count": null,
   "id": "bb73c80a",
   "metadata": {},
   "outputs": [],
   "source": [
    "magnum_ai = 'magnum_ai'\n",
    "\n",
    "#list[0] = column name\n",
    "#list[1] = collection_df\n",
    "#list[2] = attribute_df\n",
    "\n",
    "magnum_ai_list = split_attribute(magnum_ai)\n",
    "magnum_ai_list"
   ]
  },
  {
   "cell_type": "code",
   "execution_count": null,
   "id": "88e58f19",
   "metadata": {},
   "outputs": [],
   "source": [
    "magnum_ai_name = ['Trait_Background','Trait_Body','Trait_Face','Trait_Costume','Trait_Face_Gear','Trait_Glasses','Trait_Headgear']\n",
    "print(len(magnum_ai_name))"
   ]
  },
  {
   "cell_type": "code",
   "execution_count": null,
   "id": "d93f62bc",
   "metadata": {},
   "outputs": [],
   "source": [
    "magnum_ai_df = add_att(magnum_ai_name,magnum_ai_list[1],magnum_ai_list[2])\n",
    "print(magnum_ai_df.shape)\n",
    "display(magnum_ai_df.head())\n",
    "display(magnum_ai_df.columns)"
   ]
  },
  {
   "cell_type": "code",
   "execution_count": null,
   "id": "5396884e",
   "metadata": {},
   "outputs": [],
   "source": [
    "magnum_ai_df.to_csv('cleaned_magnum_ai.csv')"
   ]
  },
  {
   "cell_type": "code",
   "execution_count": null,
   "id": "71cebd1b",
   "metadata": {},
   "outputs": [],
   "source": []
  },
  {
   "cell_type": "markdown",
   "id": "2671ed82",
   "metadata": {},
   "source": [
    "### degenerate_ape_academy"
   ]
  },
  {
   "cell_type": "code",
   "execution_count": null,
   "id": "c12dd4c7",
   "metadata": {},
   "outputs": [],
   "source": [
    "degenerate_ape_academy = 'degenerate_ape_academy'\n",
    "\n",
    "def split_daa(c_name):\n",
    "        #pull out only data that match the collecion name\n",
    "        collection_df = all_df[all_df['collectionName'] == c_name]\n",
    "        # split trait_type and trait_value into separate columns\n",
    "        split_att_df = collection_df['attributes'].str.split(',', expand=True)\n",
    "        split_att_df = split_att_df.drop(columns=[14,15,16,17,18,19])\n",
    "\n",
    "        # print the list of row 1\n",
    "        col_name_list = split_att_df.iloc[0]\n",
    "        # only keep the value columns in attribute_df\n",
    "        split_att_df = split_att_df.loc[:, np.arange(len(split_att_df.columns)) %2 != 0]\n",
    "        # use regular expression to clean ('value') and non word characters\n",
    "        split_att_df = split_att_df.replace({'(\\'value\\')?(\\W)':''}, regex=True)\n",
    "        # return list, collection_df, and attribute_df\n",
    "        return col_name_list,collection_df, split_att_df\n",
    "    \n",
    "    "
   ]
  },
  {
   "cell_type": "code",
   "execution_count": null,
   "id": "b34ab2ea",
   "metadata": {},
   "outputs": [],
   "source": [
    "#list[0] = column name\n",
    "#list[1] = collection_df\n",
    "#list[2] = attribute_df\n",
    "\n",
    "degenerate_ape_academy_list = split_daa(degenerate_ape_academy)\n",
    "degenerate_ape_academy_list"
   ]
  },
  {
   "cell_type": "code",
   "execution_count": null,
   "id": "a0ab5a0f",
   "metadata": {},
   "outputs": [],
   "source": [
    "degenerate_ape_academy_name = ['Trait_Background',\n",
    "                               'Trait_Fur_Skin',\n",
    "                               'Trait_Head',\n",
    "                               'Trait_Mouth',\n",
    "                               'Trait_Teeth',\n",
    "                               'Trait_Clothing',\n",
    "                               'Trait_Eyewear']\n"
   ]
  },
  {
   "cell_type": "code",
   "execution_count": null,
   "id": "a7ae23ba",
   "metadata": {},
   "outputs": [],
   "source": [
    "print(len(degenerate_ape_academy_name))"
   ]
  },
  {
   "cell_type": "code",
   "execution_count": null,
   "id": "3e66306d",
   "metadata": {},
   "outputs": [],
   "source": [
    "degenerate_ape_academy_df = add_att(degenerate_ape_academy_name,degenerate_ape_academy_list[1],degenerate_ape_academy_list[2])\n",
    "print(degenerate_ape_academy_df.shape)\n",
    "display(degenerate_ape_academy_df.head())\n",
    "display(degenerate_ape_academy_df.columns)"
   ]
  },
  {
   "cell_type": "code",
   "execution_count": null,
   "id": "e9913f8c",
   "metadata": {},
   "outputs": [],
   "source": [
    "degenerate_ape_academy_df.to_csv('cleaned_degenerate_ape_academy.csv')"
   ]
  },
  {
   "cell_type": "code",
   "execution_count": null,
   "id": "64ed01d9",
   "metadata": {},
   "outputs": [],
   "source": []
  }
 ],
 "metadata": {
  "kernelspec": {
   "display_name": "PythonData",
   "language": "python",
   "name": "pythondata"
  },
  "language_info": {
   "codemirror_mode": {
    "name": "ipython",
    "version": 3
   },
   "file_extension": ".py",
   "mimetype": "text/x-python",
   "name": "python",
   "nbconvert_exporter": "python",
   "pygments_lexer": "ipython3",
   "version": "3.7.6"
  }
 },
 "nbformat": 4,
 "nbformat_minor": 5
}
